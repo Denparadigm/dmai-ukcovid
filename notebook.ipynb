{
 "cells": [
  {
   "cell_type": "markdown",
   "source": [
    "# Covid 19 UK Deaths\n",
    "In this Jupyter notebook, I will be conducting an exploratory data analysis (EDA) on three datasets related to the COVID-19 pandemic in the United Kingdom. The datasets I have chosen are Deaths.csv, Vaccinations.csv, and ConfirmedCasesByDateReported.csv. It's important to note that the 'areaName' column in ConfirmedCasesByDateReported.csv and Deaths.csv only contain 'United Kingdom'. The 'areaName' column in Vaccinations.csv, only contain information for the four countries that make up the United Kingdom. Throughout this analysis, I will be using pandas to manipulate and explore the datasets, and I will also be using visualizations to better understand the data..\n",
    "\n"
   ],
   "metadata": {
    "collapsed": false
   }
  },
  {
   "cell_type": "code",
   "execution_count": 79,
   "outputs": [],
   "source": [
    "import numpy as np\n",
    "import pandas as pd\n",
    "pd.options.mode.chained_assignment = None  # default='warn'\n",
    "import matplotlib.pyplot as plt\n",
    "import seaborn as sns"
   ],
   "metadata": {
    "collapsed": false
   }
  },
  {
   "cell_type": "markdown",
   "source": [
    "Creating Dataframes"
   ],
   "metadata": {
    "collapsed": false
   }
  },
  {
   "cell_type": "code",
   "execution_count": 80,
   "outputs": [],
   "source": [
    "d = pd.read_csv(\"data/Deaths.csv\") # creates data frame\n",
    "v = pd.read_csv(\"data/Vaccinations.csv\")\n",
    "c = pd.read_csv(\"data/ConfirmedCasesByDateReported.csv\")"
   ],
   "metadata": {
    "collapsed": false
   }
  },
  {
   "cell_type": "code",
   "execution_count": 81,
   "outputs": [
    {
     "data": {
      "text/plain": "         areaName       date  newDeaths28DaysByDeathDate  \\\n0  United Kingdom  10/3/2021                          32   \n1  United Kingdom   9/3/2021                          97   \n2  United Kingdom   8/3/2021                         130   \n3  United Kingdom   7/3/2021                         102   \n4  United Kingdom   6/3/2021                         128   \n\n   cumDeaths28DaysByDeathDate  \n0                    125165.0  \n1                    125133.0  \n2                    125036.0  \n3                    124906.0  \n4                    124804.0  ",
      "text/html": "<div>\n<style scoped>\n    .dataframe tbody tr th:only-of-type {\n        vertical-align: middle;\n    }\n\n    .dataframe tbody tr th {\n        vertical-align: top;\n    }\n\n    .dataframe thead th {\n        text-align: right;\n    }\n</style>\n<table border=\"1\" class=\"dataframe\">\n  <thead>\n    <tr style=\"text-align: right;\">\n      <th></th>\n      <th>areaName</th>\n      <th>date</th>\n      <th>newDeaths28DaysByDeathDate</th>\n      <th>cumDeaths28DaysByDeathDate</th>\n    </tr>\n  </thead>\n  <tbody>\n    <tr>\n      <th>0</th>\n      <td>United Kingdom</td>\n      <td>10/3/2021</td>\n      <td>32</td>\n      <td>125165.0</td>\n    </tr>\n    <tr>\n      <th>1</th>\n      <td>United Kingdom</td>\n      <td>9/3/2021</td>\n      <td>97</td>\n      <td>125133.0</td>\n    </tr>\n    <tr>\n      <th>2</th>\n      <td>United Kingdom</td>\n      <td>8/3/2021</td>\n      <td>130</td>\n      <td>125036.0</td>\n    </tr>\n    <tr>\n      <th>3</th>\n      <td>United Kingdom</td>\n      <td>7/3/2021</td>\n      <td>102</td>\n      <td>124906.0</td>\n    </tr>\n    <tr>\n      <th>4</th>\n      <td>United Kingdom</td>\n      <td>6/3/2021</td>\n      <td>128</td>\n      <td>124804.0</td>\n    </tr>\n  </tbody>\n</table>\n</div>"
     },
     "execution_count": 81,
     "metadata": {},
     "output_type": "execute_result"
    }
   ],
   "source": [
    "d.head()"
   ],
   "metadata": {
    "collapsed": false
   }
  },
  {
   "cell_type": "code",
   "execution_count": 82,
   "outputs": [
    {
     "name": "stdout",
     "output_type": "stream",
     "text": [
      "<class 'pandas.core.frame.DataFrame'>\n",
      "RangeIndex: 376 entries, 0 to 375\n",
      "Data columns (total 4 columns):\n",
      " #   Column                      Non-Null Count  Dtype  \n",
      "---  ------                      --------------  -----  \n",
      " 0   areaName                    376 non-null    object \n",
      " 1   date                        376 non-null    object \n",
      " 2   newDeaths28DaysByDeathDate  376 non-null    int64  \n",
      " 3   cumDeaths28DaysByDeathDate  374 non-null    float64\n",
      "dtypes: float64(1), int64(1), object(2)\n",
      "memory usage: 11.9+ KB\n"
     ]
    }
   ],
   "source": [
    "d.info()"
   ],
   "metadata": {
    "collapsed": false
   }
  },
  {
   "cell_type": "markdown",
   "source": [
    "There are two missing values in the 'cumDeaths28DaysByDeathDate' column, as the non-null count for this column is 374 instead of 376. It may be necessary to handle these missing values before proceeding with any further analysis."
   ],
   "metadata": {
    "collapsed": false
   }
  },
  {
   "cell_type": "code",
   "execution_count": 83,
   "outputs": [
    {
     "data": {
      "text/plain": "       newDeaths28DaysByDeathDate  cumDeaths28DaysByDeathDate\ncount                  376.000000                  374.000000\nmean                   332.885638                51317.727273\nstd                    344.537116                32077.730134\nmin                      0.000000                    1.000000\n25%                     31.750000                38706.750000\n50%                    221.500000                41679.500000\n75%                    487.750000                63238.500000\nmax                   1359.000000               125165.000000",
      "text/html": "<div>\n<style scoped>\n    .dataframe tbody tr th:only-of-type {\n        vertical-align: middle;\n    }\n\n    .dataframe tbody tr th {\n        vertical-align: top;\n    }\n\n    .dataframe thead th {\n        text-align: right;\n    }\n</style>\n<table border=\"1\" class=\"dataframe\">\n  <thead>\n    <tr style=\"text-align: right;\">\n      <th></th>\n      <th>newDeaths28DaysByDeathDate</th>\n      <th>cumDeaths28DaysByDeathDate</th>\n    </tr>\n  </thead>\n  <tbody>\n    <tr>\n      <th>count</th>\n      <td>376.000000</td>\n      <td>374.000000</td>\n    </tr>\n    <tr>\n      <th>mean</th>\n      <td>332.885638</td>\n      <td>51317.727273</td>\n    </tr>\n    <tr>\n      <th>std</th>\n      <td>344.537116</td>\n      <td>32077.730134</td>\n    </tr>\n    <tr>\n      <th>min</th>\n      <td>0.000000</td>\n      <td>1.000000</td>\n    </tr>\n    <tr>\n      <th>25%</th>\n      <td>31.750000</td>\n      <td>38706.750000</td>\n    </tr>\n    <tr>\n      <th>50%</th>\n      <td>221.500000</td>\n      <td>41679.500000</td>\n    </tr>\n    <tr>\n      <th>75%</th>\n      <td>487.750000</td>\n      <td>63238.500000</td>\n    </tr>\n    <tr>\n      <th>max</th>\n      <td>1359.000000</td>\n      <td>125165.000000</td>\n    </tr>\n  </tbody>\n</table>\n</div>"
     },
     "execution_count": 83,
     "metadata": {},
     "output_type": "execute_result"
    }
   ],
   "source": [
    "d.describe()"
   ],
   "metadata": {
    "collapsed": false
   }
  },
  {
   "cell_type": "code",
   "execution_count": 84,
   "outputs": [],
   "source": [
    "# Drop the two rows with null values.\n",
    "d.dropna(inplace=True)"
   ],
   "metadata": {
    "collapsed": false
   }
  },
  {
   "cell_type": "code",
   "execution_count": 85,
   "outputs": [
    {
     "data": {
      "text/plain": "  areaName       date  weeklyPeopleVaccinatedFirstDoseByVaccinationDate  \\\n0  England  14/2/2021                                           2270123   \n1  England   7/2/2021                                           2398160   \n2  England  31/1/2021                                           2198114   \n3  England  24/1/2021                                           2244887   \n4  England  17/1/2021                                           1608244   \n\n   cumPeopleVaccinatedFirstDoseByVaccinationDate  \\\n0                                       12844193   \n1                                       10574070   \n2                                        8175910   \n3                                        5977796   \n4                                        3732909   \n\n   weeklyPeopleVaccinatedSecondDoseByVaccinationDate  \\\n0                                              17521   \n1                                               8571   \n2                                               8466   \n3                                               6527   \n4                                              40483   \n\n   cumPeopleVaccinatedSecondDoseByVaccinationDate  \n0                                          487697  \n1                                          470176  \n2                                          461605  \n3                                          453139  \n4                                          446612  ",
      "text/html": "<div>\n<style scoped>\n    .dataframe tbody tr th:only-of-type {\n        vertical-align: middle;\n    }\n\n    .dataframe tbody tr th {\n        vertical-align: top;\n    }\n\n    .dataframe thead th {\n        text-align: right;\n    }\n</style>\n<table border=\"1\" class=\"dataframe\">\n  <thead>\n    <tr style=\"text-align: right;\">\n      <th></th>\n      <th>areaName</th>\n      <th>date</th>\n      <th>weeklyPeopleVaccinatedFirstDoseByVaccinationDate</th>\n      <th>cumPeopleVaccinatedFirstDoseByVaccinationDate</th>\n      <th>weeklyPeopleVaccinatedSecondDoseByVaccinationDate</th>\n      <th>cumPeopleVaccinatedSecondDoseByVaccinationDate</th>\n    </tr>\n  </thead>\n  <tbody>\n    <tr>\n      <th>0</th>\n      <td>England</td>\n      <td>14/2/2021</td>\n      <td>2270123</td>\n      <td>12844193</td>\n      <td>17521</td>\n      <td>487697</td>\n    </tr>\n    <tr>\n      <th>1</th>\n      <td>England</td>\n      <td>7/2/2021</td>\n      <td>2398160</td>\n      <td>10574070</td>\n      <td>8571</td>\n      <td>470176</td>\n    </tr>\n    <tr>\n      <th>2</th>\n      <td>England</td>\n      <td>31/1/2021</td>\n      <td>2198114</td>\n      <td>8175910</td>\n      <td>8466</td>\n      <td>461605</td>\n    </tr>\n    <tr>\n      <th>3</th>\n      <td>England</td>\n      <td>24/1/2021</td>\n      <td>2244887</td>\n      <td>5977796</td>\n      <td>6527</td>\n      <td>453139</td>\n    </tr>\n    <tr>\n      <th>4</th>\n      <td>England</td>\n      <td>17/1/2021</td>\n      <td>1608244</td>\n      <td>3732909</td>\n      <td>40483</td>\n      <td>446612</td>\n    </tr>\n  </tbody>\n</table>\n</div>"
     },
     "execution_count": 85,
     "metadata": {},
     "output_type": "execute_result"
    }
   ],
   "source": [
    "v.head()"
   ],
   "metadata": {
    "collapsed": false
   }
  },
  {
   "cell_type": "code",
   "execution_count": 86,
   "outputs": [
    {
     "name": "stdout",
     "output_type": "stream",
     "text": [
      "<class 'pandas.core.frame.DataFrame'>\n",
      "RangeIndex: 40 entries, 0 to 39\n",
      "Data columns (total 6 columns):\n",
      " #   Column                                             Non-Null Count  Dtype \n",
      "---  ------                                             --------------  ----- \n",
      " 0   areaName                                           40 non-null     object\n",
      " 1   date                                               40 non-null     object\n",
      " 2   weeklyPeopleVaccinatedFirstDoseByVaccinationDate   40 non-null     int64 \n",
      " 3   cumPeopleVaccinatedFirstDoseByVaccinationDate      40 non-null     int64 \n",
      " 4   weeklyPeopleVaccinatedSecondDoseByVaccinationDate  40 non-null     int64 \n",
      " 5   cumPeopleVaccinatedSecondDoseByVaccinationDate     40 non-null     int64 \n",
      "dtypes: int64(4), object(2)\n",
      "memory usage: 2.0+ KB\n"
     ]
    }
   ],
   "source": [
    "v.info()"
   ],
   "metadata": {
    "collapsed": false
   }
  },
  {
   "cell_type": "markdown",
   "source": [
    "In this case, there are no null values."
   ],
   "metadata": {
    "collapsed": false
   }
  },
  {
   "cell_type": "code",
   "execution_count": 87,
   "outputs": [
    {
     "data": {
      "text/plain": "         areaName       date  newCasesByPublishDate\n0  United Kingdom  25/3/2021                   6397\n1  United Kingdom  24/3/2021                   5605\n2  United Kingdom  23/3/2021                   5379\n3  United Kingdom  22/3/2021                   5342\n4  United Kingdom  21/3/2021                   5312",
      "text/html": "<div>\n<style scoped>\n    .dataframe tbody tr th:only-of-type {\n        vertical-align: middle;\n    }\n\n    .dataframe tbody tr th {\n        vertical-align: top;\n    }\n\n    .dataframe thead th {\n        text-align: right;\n    }\n</style>\n<table border=\"1\" class=\"dataframe\">\n  <thead>\n    <tr style=\"text-align: right;\">\n      <th></th>\n      <th>areaName</th>\n      <th>date</th>\n      <th>newCasesByPublishDate</th>\n    </tr>\n  </thead>\n  <tbody>\n    <tr>\n      <th>0</th>\n      <td>United Kingdom</td>\n      <td>25/3/2021</td>\n      <td>6397</td>\n    </tr>\n    <tr>\n      <th>1</th>\n      <td>United Kingdom</td>\n      <td>24/3/2021</td>\n      <td>5605</td>\n    </tr>\n    <tr>\n      <th>2</th>\n      <td>United Kingdom</td>\n      <td>23/3/2021</td>\n      <td>5379</td>\n    </tr>\n    <tr>\n      <th>3</th>\n      <td>United Kingdom</td>\n      <td>22/3/2021</td>\n      <td>5342</td>\n    </tr>\n    <tr>\n      <th>4</th>\n      <td>United Kingdom</td>\n      <td>21/3/2021</td>\n      <td>5312</td>\n    </tr>\n  </tbody>\n</table>\n</div>"
     },
     "execution_count": 87,
     "metadata": {},
     "output_type": "execute_result"
    }
   ],
   "source": [
    "c.head()"
   ],
   "metadata": {
    "collapsed": false
   }
  },
  {
   "cell_type": "code",
   "execution_count": 88,
   "outputs": [
    {
     "name": "stdout",
     "output_type": "stream",
     "text": [
      "<class 'pandas.core.frame.DataFrame'>\n",
      "RangeIndex: 421 entries, 0 to 420\n",
      "Data columns (total 3 columns):\n",
      " #   Column                 Non-Null Count  Dtype \n",
      "---  ------                 --------------  ----- \n",
      " 0   areaName               421 non-null    object\n",
      " 1   date                   421 non-null    object\n",
      " 2   newCasesByPublishDate  421 non-null    int64 \n",
      "dtypes: int64(1), object(2)\n",
      "memory usage: 10.0+ KB\n"
     ]
    }
   ],
   "source": [
    "c.info()"
   ],
   "metadata": {
    "collapsed": false
   }
  },
  {
   "cell_type": "markdown",
   "source": [
    "As with vaccinations, there are no null values here."
   ],
   "metadata": {
    "collapsed": false
   }
  }
 ],
 "metadata": {
  "kernelspec": {
   "display_name": "Python 3",
   "language": "python",
   "name": "python3"
  },
  "language_info": {
   "codemirror_mode": {
    "name": "ipython",
    "version": 2
   },
   "file_extension": ".py",
   "mimetype": "text/x-python",
   "name": "python",
   "nbconvert_exporter": "python",
   "pygments_lexer": "ipython2",
   "version": "2.7.6"
  }
 },
 "nbformat": 4,
 "nbformat_minor": 0
}
